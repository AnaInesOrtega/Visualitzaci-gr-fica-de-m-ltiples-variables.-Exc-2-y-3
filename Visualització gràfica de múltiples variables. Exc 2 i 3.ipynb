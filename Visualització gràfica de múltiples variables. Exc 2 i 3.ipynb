{
 "cells": [
  {
   "cell_type": "markdown",
   "id": "5e8f601c",
   "metadata": {},
   "source": [
    "# Tasca M4 T02\n",
    "\n",
    "## Exercici 1\n",
    "\n",
    "Realitza la pràctica del notebook a GitHub \"03 EXAMINING DATA\" (fes una còpia i executa els comandaments amb el mateix dataset county.txt). Aquest exercici consisteix a observar les diferents possibilitats que ofereixen les diferents llibreries de visualització gràfica.\n",
    "- Ya fue realizado el nombre del archivo es \"Visualització gràfica de múltiples variables Exc 1. \n",
    "\n",
    "## Exercici 2\n",
    "\n",
    "Fes les tasques de preprocessat  i adequació del Dataset que disposem en el repositori de GitHub PRE-PROCESSING-DATA amb l'objectiu de preparar-lo i treballar-lo com a dataframe per a extreure'n informació.\n",
    "\n",
    "El resultat final ha de ser un dataframe amb les variables de nom de la pel·lícula, any i genere. També és important quedar-se amb un sol gènere per a cada pel·lícula!"
   ]
  },
  {
   "cell_type": "code",
   "execution_count": 24,
   "id": "60f285e3",
   "metadata": {},
   "outputs": [
    {
     "data": {
      "text/html": [
       "<div>\n",
       "<style scoped>\n",
       "    .dataframe tbody tr th:only-of-type {\n",
       "        vertical-align: middle;\n",
       "    }\n",
       "\n",
       "    .dataframe tbody tr th {\n",
       "        vertical-align: top;\n",
       "    }\n",
       "\n",
       "    .dataframe thead th {\n",
       "        text-align: right;\n",
       "    }\n",
       "</style>\n",
       "<table border=\"1\" class=\"dataframe\">\n",
       "  <thead>\n",
       "    <tr style=\"text-align: right;\">\n",
       "      <th></th>\n",
       "      <th>Titulo</th>\n",
       "      <th>Genero</th>\n",
       "    </tr>\n",
       "    <tr>\n",
       "      <th>id</th>\n",
       "      <th></th>\n",
       "      <th></th>\n",
       "    </tr>\n",
       "  </thead>\n",
       "  <tbody>\n",
       "    <tr>\n",
       "      <th>1</th>\n",
       "      <td>Toy Story (1995)</td>\n",
       "      <td>Animation|Children's|Comedy</td>\n",
       "    </tr>\n",
       "    <tr>\n",
       "      <th>2</th>\n",
       "      <td>Jumanji (1995)</td>\n",
       "      <td>Adventure|Children's|Fantasy</td>\n",
       "    </tr>\n",
       "    <tr>\n",
       "      <th>3</th>\n",
       "      <td>Grumpier Old Men (1995)</td>\n",
       "      <td>Comedy|Romance</td>\n",
       "    </tr>\n",
       "    <tr>\n",
       "      <th>4</th>\n",
       "      <td>Waiting to Exhale (1995)</td>\n",
       "      <td>Comedy|Drama</td>\n",
       "    </tr>\n",
       "    <tr>\n",
       "      <th>5</th>\n",
       "      <td>Father of the Bride Part II (1995)</td>\n",
       "      <td>Comedy</td>\n",
       "    </tr>\n",
       "    <tr>\n",
       "      <th>...</th>\n",
       "      <td>...</td>\n",
       "      <td>...</td>\n",
       "    </tr>\n",
       "    <tr>\n",
       "      <th>3948</th>\n",
       "      <td>Meet the Parents (2000)</td>\n",
       "      <td>Comedy</td>\n",
       "    </tr>\n",
       "    <tr>\n",
       "      <th>3949</th>\n",
       "      <td>Requiem for a Dream (2000)</td>\n",
       "      <td>Drama</td>\n",
       "    </tr>\n",
       "    <tr>\n",
       "      <th>3950</th>\n",
       "      <td>Tigerland (2000)</td>\n",
       "      <td>Drama</td>\n",
       "    </tr>\n",
       "    <tr>\n",
       "      <th>3951</th>\n",
       "      <td>Two Family House (2000)</td>\n",
       "      <td>Drama</td>\n",
       "    </tr>\n",
       "    <tr>\n",
       "      <th>3952</th>\n",
       "      <td>Contender, The (2000)</td>\n",
       "      <td>Drama|Thriller</td>\n",
       "    </tr>\n",
       "  </tbody>\n",
       "</table>\n",
       "<p>3883 rows × 2 columns</p>\n",
       "</div>"
      ],
      "text/plain": [
       "                                  Titulo                        Genero\n",
       "id                                                                    \n",
       "1                       Toy Story (1995)   Animation|Children's|Comedy\n",
       "2                         Jumanji (1995)  Adventure|Children's|Fantasy\n",
       "3                Grumpier Old Men (1995)                Comedy|Romance\n",
       "4               Waiting to Exhale (1995)                  Comedy|Drama\n",
       "5     Father of the Bride Part II (1995)                        Comedy\n",
       "...                                  ...                           ...\n",
       "3948             Meet the Parents (2000)                        Comedy\n",
       "3949          Requiem for a Dream (2000)                         Drama\n",
       "3950                    Tigerland (2000)                         Drama\n",
       "3951             Two Family House (2000)                         Drama\n",
       "3952               Contender, The (2000)                Drama|Thriller\n",
       "\n",
       "[3883 rows x 2 columns]"
      ]
     },
     "execution_count": 24,
     "metadata": {},
     "output_type": "execute_result"
    }
   ],
   "source": [
    "import pandas as pd\n",
    "import matplotlib.pyplot as plt\n",
    "import numpy as np\n",
    "import seaborn as sns\n",
    "import warnings\n",
    "warnings.filterwarnings('ignore')\n",
    "\n",
    "ds_movies = pd.read_csv('movies.dat.txt', sep ='::', encoding = 'ISO-8859-1', engine='python', header = None, names = ['id', 'Titulo', 'Genero'], index_col='id')\n",
    "ds_movies"
   ]
  },
  {
   "cell_type": "code",
   "execution_count": 25,
   "id": "2641ec51",
   "metadata": {},
   "outputs": [
    {
     "data": {
      "text/html": [
       "<div>\n",
       "<style scoped>\n",
       "    .dataframe tbody tr th:only-of-type {\n",
       "        vertical-align: middle;\n",
       "    }\n",
       "\n",
       "    .dataframe tbody tr th {\n",
       "        vertical-align: top;\n",
       "    }\n",
       "\n",
       "    .dataframe thead th {\n",
       "        text-align: right;\n",
       "    }\n",
       "</style>\n",
       "<table border=\"1\" class=\"dataframe\">\n",
       "  <thead>\n",
       "    <tr style=\"text-align: right;\">\n",
       "      <th></th>\n",
       "      <th>Titulo</th>\n",
       "      <th>Genero</th>\n",
       "    </tr>\n",
       "    <tr>\n",
       "      <th>id</th>\n",
       "      <th></th>\n",
       "      <th></th>\n",
       "    </tr>\n",
       "  </thead>\n",
       "  <tbody>\n",
       "    <tr>\n",
       "      <th>1</th>\n",
       "      <td>Toy Story (1995)</td>\n",
       "      <td>Animation|Children's|Comedy</td>\n",
       "    </tr>\n",
       "    <tr>\n",
       "      <th>2</th>\n",
       "      <td>Jumanji (1995)</td>\n",
       "      <td>Adventure|Children's|Fantasy</td>\n",
       "    </tr>\n",
       "    <tr>\n",
       "      <th>3</th>\n",
       "      <td>Grumpier Old Men (1995)</td>\n",
       "      <td>Comedy|Romance</td>\n",
       "    </tr>\n",
       "    <tr>\n",
       "      <th>4</th>\n",
       "      <td>Waiting to Exhale (1995)</td>\n",
       "      <td>Comedy|Drama</td>\n",
       "    </tr>\n",
       "    <tr>\n",
       "      <th>5</th>\n",
       "      <td>Father of the Bride Part II (1995)</td>\n",
       "      <td>Comedy</td>\n",
       "    </tr>\n",
       "    <tr>\n",
       "      <th>...</th>\n",
       "      <td>...</td>\n",
       "      <td>...</td>\n",
       "    </tr>\n",
       "    <tr>\n",
       "      <th>3948</th>\n",
       "      <td>Meet the Parents (2000)</td>\n",
       "      <td>Comedy</td>\n",
       "    </tr>\n",
       "    <tr>\n",
       "      <th>3949</th>\n",
       "      <td>Requiem for a Dream (2000)</td>\n",
       "      <td>Drama</td>\n",
       "    </tr>\n",
       "    <tr>\n",
       "      <th>3950</th>\n",
       "      <td>Tigerland (2000)</td>\n",
       "      <td>Drama</td>\n",
       "    </tr>\n",
       "    <tr>\n",
       "      <th>3951</th>\n",
       "      <td>Two Family House (2000)</td>\n",
       "      <td>Drama</td>\n",
       "    </tr>\n",
       "    <tr>\n",
       "      <th>3952</th>\n",
       "      <td>Contender, The (2000)</td>\n",
       "      <td>Drama|Thriller</td>\n",
       "    </tr>\n",
       "  </tbody>\n",
       "</table>\n",
       "<p>3883 rows × 2 columns</p>\n",
       "</div>"
      ],
      "text/plain": [
       "                                  Titulo                        Genero\n",
       "id                                                                    \n",
       "1                       Toy Story (1995)   Animation|Children's|Comedy\n",
       "2                         Jumanji (1995)  Adventure|Children's|Fantasy\n",
       "3                Grumpier Old Men (1995)                Comedy|Romance\n",
       "4               Waiting to Exhale (1995)                  Comedy|Drama\n",
       "5     Father of the Bride Part II (1995)                        Comedy\n",
       "...                                  ...                           ...\n",
       "3948             Meet the Parents (2000)                        Comedy\n",
       "3949          Requiem for a Dream (2000)                         Drama\n",
       "3950                    Tigerland (2000)                         Drama\n",
       "3951             Two Family House (2000)                         Drama\n",
       "3952               Contender, The (2000)                Drama|Thriller\n",
       "\n",
       "[3883 rows x 2 columns]"
      ]
     },
     "execution_count": 25,
     "metadata": {},
     "output_type": "execute_result"
    }
   ],
   "source": [
    "df_movies = pd.DataFrame(ds_movies)\n",
    "df_movies"
   ]
  },
  {
   "cell_type": "code",
   "execution_count": 26,
   "id": "8ea1d515",
   "metadata": {},
   "outputs": [
    {
     "data": {
      "text/plain": [
       "(3883, 2)"
      ]
     },
     "execution_count": 26,
     "metadata": {},
     "output_type": "execute_result"
    }
   ],
   "source": [
    "df_movies.shape"
   ]
  },
  {
   "cell_type": "code",
   "execution_count": 27,
   "id": "2bb6ffb2",
   "metadata": {},
   "outputs": [
    {
     "data": {
      "text/html": [
       "<div>\n",
       "<style scoped>\n",
       "    .dataframe tbody tr th:only-of-type {\n",
       "        vertical-align: middle;\n",
       "    }\n",
       "\n",
       "    .dataframe tbody tr th {\n",
       "        vertical-align: top;\n",
       "    }\n",
       "\n",
       "    .dataframe thead th {\n",
       "        text-align: right;\n",
       "    }\n",
       "</style>\n",
       "<table border=\"1\" class=\"dataframe\">\n",
       "  <thead>\n",
       "    <tr style=\"text-align: right;\">\n",
       "      <th></th>\n",
       "      <th>Titulo</th>\n",
       "      <th>Genero</th>\n",
       "    </tr>\n",
       "    <tr>\n",
       "      <th>id</th>\n",
       "      <th></th>\n",
       "      <th></th>\n",
       "    </tr>\n",
       "  </thead>\n",
       "  <tbody>\n",
       "    <tr>\n",
       "      <th>1</th>\n",
       "      <td>Toy Story (1995)</td>\n",
       "      <td>Animation|Children's|Comedy</td>\n",
       "    </tr>\n",
       "    <tr>\n",
       "      <th>2</th>\n",
       "      <td>Jumanji (1995)</td>\n",
       "      <td>Adventure|Children's|Fantasy</td>\n",
       "    </tr>\n",
       "    <tr>\n",
       "      <th>3</th>\n",
       "      <td>Grumpier Old Men (1995)</td>\n",
       "      <td>Comedy|Romance</td>\n",
       "    </tr>\n",
       "    <tr>\n",
       "      <th>4</th>\n",
       "      <td>Waiting to Exhale (1995)</td>\n",
       "      <td>Comedy|Drama</td>\n",
       "    </tr>\n",
       "    <tr>\n",
       "      <th>5</th>\n",
       "      <td>Father of the Bride Part II (1995)</td>\n",
       "      <td>Comedy</td>\n",
       "    </tr>\n",
       "  </tbody>\n",
       "</table>\n",
       "</div>"
      ],
      "text/plain": [
       "                                Titulo                        Genero\n",
       "id                                                                  \n",
       "1                     Toy Story (1995)   Animation|Children's|Comedy\n",
       "2                       Jumanji (1995)  Adventure|Children's|Fantasy\n",
       "3              Grumpier Old Men (1995)                Comedy|Romance\n",
       "4             Waiting to Exhale (1995)                  Comedy|Drama\n",
       "5   Father of the Bride Part II (1995)                        Comedy"
      ]
     },
     "execution_count": 27,
     "metadata": {},
     "output_type": "execute_result"
    }
   ],
   "source": [
    "df_movies.head()"
   ]
  },
  {
   "cell_type": "code",
   "execution_count": 29,
   "id": "0592a2ec",
   "metadata": {},
   "outputs": [
    {
     "data": {
      "text/plain": [
       "Index(['Titulo', 'Genero'], dtype='object')"
      ]
     },
     "execution_count": 29,
     "metadata": {},
     "output_type": "execute_result"
    }
   ],
   "source": [
    "df_movies.columns"
   ]
  },
  {
   "cell_type": "code",
   "execution_count": 30,
   "id": "f3b02b51",
   "metadata": {},
   "outputs": [
    {
     "data": {
      "text/plain": [
       "301"
      ]
     },
     "execution_count": 30,
     "metadata": {},
     "output_type": "execute_result"
    }
   ],
   "source": [
    "df_movies.Genero.nunique()"
   ]
  },
  {
   "cell_type": "code",
   "execution_count": 7,
   "id": "d42161a8",
   "metadata": {},
   "outputs": [
    {
     "data": {
      "text/html": [
       "<div>\n",
       "<style scoped>\n",
       "    .dataframe tbody tr th:only-of-type {\n",
       "        vertical-align: middle;\n",
       "    }\n",
       "\n",
       "    .dataframe tbody tr th {\n",
       "        vertical-align: top;\n",
       "    }\n",
       "\n",
       "    .dataframe thead th {\n",
       "        text-align: right;\n",
       "    }\n",
       "</style>\n",
       "<table border=\"1\" class=\"dataframe\">\n",
       "  <thead>\n",
       "    <tr style=\"text-align: right;\">\n",
       "      <th></th>\n",
       "      <th>Título</th>\n",
       "      <th>Género</th>\n",
       "    </tr>\n",
       "  </thead>\n",
       "  <tbody>\n",
       "    <tr>\n",
       "      <th>count</th>\n",
       "      <td>3883</td>\n",
       "      <td>3883</td>\n",
       "    </tr>\n",
       "    <tr>\n",
       "      <th>unique</th>\n",
       "      <td>3883</td>\n",
       "      <td>301</td>\n",
       "    </tr>\n",
       "    <tr>\n",
       "      <th>top</th>\n",
       "      <td>Toy Story (1995)</td>\n",
       "      <td>Drama</td>\n",
       "    </tr>\n",
       "    <tr>\n",
       "      <th>freq</th>\n",
       "      <td>1</td>\n",
       "      <td>843</td>\n",
       "    </tr>\n",
       "  </tbody>\n",
       "</table>\n",
       "</div>"
      ],
      "text/plain": [
       "                  Título Género\n",
       "count               3883   3883\n",
       "unique              3883    301\n",
       "top     Toy Story (1995)  Drama\n",
       "freq                   1    843"
      ]
     },
     "execution_count": 7,
     "metadata": {},
     "output_type": "execute_result"
    }
   ],
   "source": [
    "df_movies.describe().round(3)"
   ]
  },
  {
   "cell_type": "markdown",
   "id": "c1fd7379",
   "metadata": {},
   "source": [
    "- Se corta el año de la columna \"Título\" y crea la nueva columna Año (\"Any\")"
   ]
  },
  {
   "cell_type": "code",
   "execution_count": 31,
   "id": "5a0c1332",
   "metadata": {
    "scrolled": true
   },
   "outputs": [
    {
     "data": {
      "text/html": [
       "<div>\n",
       "<style scoped>\n",
       "    .dataframe tbody tr th:only-of-type {\n",
       "        vertical-align: middle;\n",
       "    }\n",
       "\n",
       "    .dataframe tbody tr th {\n",
       "        vertical-align: top;\n",
       "    }\n",
       "\n",
       "    .dataframe thead th {\n",
       "        text-align: right;\n",
       "    }\n",
       "</style>\n",
       "<table border=\"1\" class=\"dataframe\">\n",
       "  <thead>\n",
       "    <tr style=\"text-align: right;\">\n",
       "      <th></th>\n",
       "      <th>Titulo</th>\n",
       "      <th>Genero</th>\n",
       "      <th>Any</th>\n",
       "    </tr>\n",
       "    <tr>\n",
       "      <th>id</th>\n",
       "      <th></th>\n",
       "      <th></th>\n",
       "      <th></th>\n",
       "    </tr>\n",
       "  </thead>\n",
       "  <tbody>\n",
       "    <tr>\n",
       "      <th>1</th>\n",
       "      <td>Toy Story</td>\n",
       "      <td>Animation|Children's|Comedy</td>\n",
       "      <td>1995</td>\n",
       "    </tr>\n",
       "    <tr>\n",
       "      <th>2</th>\n",
       "      <td>Jumanji</td>\n",
       "      <td>Adventure|Children's|Fantasy</td>\n",
       "      <td>1995</td>\n",
       "    </tr>\n",
       "    <tr>\n",
       "      <th>3</th>\n",
       "      <td>Grumpier Old Men</td>\n",
       "      <td>Comedy|Romance</td>\n",
       "      <td>1995</td>\n",
       "    </tr>\n",
       "    <tr>\n",
       "      <th>4</th>\n",
       "      <td>Waiting to Exhale</td>\n",
       "      <td>Comedy|Drama</td>\n",
       "      <td>1995</td>\n",
       "    </tr>\n",
       "    <tr>\n",
       "      <th>5</th>\n",
       "      <td>Father of the Bride Part II</td>\n",
       "      <td>Comedy</td>\n",
       "      <td>1995</td>\n",
       "    </tr>\n",
       "    <tr>\n",
       "      <th>6</th>\n",
       "      <td>Heat</td>\n",
       "      <td>Action|Crime|Thriller</td>\n",
       "      <td>1995</td>\n",
       "    </tr>\n",
       "    <tr>\n",
       "      <th>7</th>\n",
       "      <td>Sabrina</td>\n",
       "      <td>Comedy|Romance</td>\n",
       "      <td>1995</td>\n",
       "    </tr>\n",
       "    <tr>\n",
       "      <th>8</th>\n",
       "      <td>Tom and Huck</td>\n",
       "      <td>Adventure|Children's</td>\n",
       "      <td>1995</td>\n",
       "    </tr>\n",
       "    <tr>\n",
       "      <th>9</th>\n",
       "      <td>Sudden Death</td>\n",
       "      <td>Action</td>\n",
       "      <td>1995</td>\n",
       "    </tr>\n",
       "    <tr>\n",
       "      <th>10</th>\n",
       "      <td>GoldenEye</td>\n",
       "      <td>Action|Adventure|Thriller</td>\n",
       "      <td>1995</td>\n",
       "    </tr>\n",
       "  </tbody>\n",
       "</table>\n",
       "</div>"
      ],
      "text/plain": [
       "                          Titulo                        Genero   Any\n",
       "id                                                                  \n",
       "1                     Toy Story    Animation|Children's|Comedy  1995\n",
       "2                       Jumanji   Adventure|Children's|Fantasy  1995\n",
       "3              Grumpier Old Men                 Comedy|Romance  1995\n",
       "4             Waiting to Exhale                   Comedy|Drama  1995\n",
       "5   Father of the Bride Part II                         Comedy  1995\n",
       "6                          Heat          Action|Crime|Thriller  1995\n",
       "7                       Sabrina                 Comedy|Romance  1995\n",
       "8                  Tom and Huck           Adventure|Children's  1995\n",
       "9                  Sudden Death                         Action  1995\n",
       "10                    GoldenEye      Action|Adventure|Thriller  1995"
      ]
     },
     "execution_count": 31,
     "metadata": {},
     "output_type": "execute_result"
    }
   ],
   "source": [
    "df_movies['Any'] = df_movies.Titulo.str.slice(-5,-1)\n",
    "df_movies['Titulo'] = df_movies.Titulo.str.slice(0,-6)\n",
    "\n",
    "df_movies.head(10)"
   ]
  },
  {
   "cell_type": "code",
   "execution_count": 32,
   "id": "001bcded",
   "metadata": {},
   "outputs": [
    {
     "name": "stdout",
     "output_type": "stream",
     "text": [
      "<class 'pandas.core.frame.DataFrame'>\n",
      "Int64Index: 3883 entries, 1 to 3952\n",
      "Data columns (total 3 columns):\n",
      " #   Column  Non-Null Count  Dtype \n",
      "---  ------  --------------  ----- \n",
      " 0   Titulo  3883 non-null   object\n",
      " 1   Genero  3883 non-null   object\n",
      " 2   Any     3883 non-null   object\n",
      "dtypes: object(3)\n",
      "memory usage: 121.3+ KB\n"
     ]
    }
   ],
   "source": [
    "df_movies.info()"
   ]
  },
  {
   "cell_type": "code",
   "execution_count": 33,
   "id": "4361e4fe",
   "metadata": {},
   "outputs": [
    {
     "name": "stdout",
     "output_type": "stream",
     "text": [
      "<class 'pandas.core.frame.DataFrame'>\n",
      "Int64Index: 3883 entries, 1 to 3952\n",
      "Data columns (total 3 columns):\n",
      " #   Column  Non-Null Count  Dtype \n",
      "---  ------  --------------  ----- \n",
      " 0   Titulo  3883 non-null   object\n",
      " 1   Genero  3883 non-null   object\n",
      " 2   Any     3883 non-null   int32 \n",
      "dtypes: int32(1), object(2)\n",
      "memory usage: 106.2+ KB\n"
     ]
    }
   ],
   "source": [
    "df_movies['Any'] = df_movies.Any.astype(int)\n",
    "df_movies.info()"
   ]
  },
  {
   "cell_type": "markdown",
   "id": "67a16080",
   "metadata": {},
   "source": [
    "- Se elimina la \"|\""
   ]
  },
  {
   "cell_type": "code",
   "execution_count": 34,
   "id": "fe8f65de",
   "metadata": {},
   "outputs": [
    {
     "data": {
      "text/html": [
       "<div>\n",
       "<style scoped>\n",
       "    .dataframe tbody tr th:only-of-type {\n",
       "        vertical-align: middle;\n",
       "    }\n",
       "\n",
       "    .dataframe tbody tr th {\n",
       "        vertical-align: top;\n",
       "    }\n",
       "\n",
       "    .dataframe thead th {\n",
       "        text-align: right;\n",
       "    }\n",
       "</style>\n",
       "<table border=\"1\" class=\"dataframe\">\n",
       "  <thead>\n",
       "    <tr style=\"text-align: right;\">\n",
       "      <th></th>\n",
       "      <th>Titulo</th>\n",
       "      <th>Genero</th>\n",
       "      <th>Any</th>\n",
       "    </tr>\n",
       "    <tr>\n",
       "      <th>id</th>\n",
       "      <th></th>\n",
       "      <th></th>\n",
       "      <th></th>\n",
       "    </tr>\n",
       "  </thead>\n",
       "  <tbody>\n",
       "    <tr>\n",
       "      <th>1</th>\n",
       "      <td>Toy Story</td>\n",
       "      <td>[Animation, Children's, Comedy]</td>\n",
       "      <td>1995</td>\n",
       "    </tr>\n",
       "    <tr>\n",
       "      <th>2</th>\n",
       "      <td>Jumanji</td>\n",
       "      <td>[Adventure, Children's, Fantasy]</td>\n",
       "      <td>1995</td>\n",
       "    </tr>\n",
       "    <tr>\n",
       "      <th>3</th>\n",
       "      <td>Grumpier Old Men</td>\n",
       "      <td>[Comedy, Romance]</td>\n",
       "      <td>1995</td>\n",
       "    </tr>\n",
       "    <tr>\n",
       "      <th>4</th>\n",
       "      <td>Waiting to Exhale</td>\n",
       "      <td>[Comedy, Drama]</td>\n",
       "      <td>1995</td>\n",
       "    </tr>\n",
       "    <tr>\n",
       "      <th>5</th>\n",
       "      <td>Father of the Bride Part II</td>\n",
       "      <td>[Comedy]</td>\n",
       "      <td>1995</td>\n",
       "    </tr>\n",
       "    <tr>\n",
       "      <th>6</th>\n",
       "      <td>Heat</td>\n",
       "      <td>[Action, Crime, Thriller]</td>\n",
       "      <td>1995</td>\n",
       "    </tr>\n",
       "    <tr>\n",
       "      <th>7</th>\n",
       "      <td>Sabrina</td>\n",
       "      <td>[Comedy, Romance]</td>\n",
       "      <td>1995</td>\n",
       "    </tr>\n",
       "    <tr>\n",
       "      <th>8</th>\n",
       "      <td>Tom and Huck</td>\n",
       "      <td>[Adventure, Children's]</td>\n",
       "      <td>1995</td>\n",
       "    </tr>\n",
       "    <tr>\n",
       "      <th>9</th>\n",
       "      <td>Sudden Death</td>\n",
       "      <td>[Action]</td>\n",
       "      <td>1995</td>\n",
       "    </tr>\n",
       "    <tr>\n",
       "      <th>10</th>\n",
       "      <td>GoldenEye</td>\n",
       "      <td>[Action, Adventure, Thriller]</td>\n",
       "      <td>1995</td>\n",
       "    </tr>\n",
       "  </tbody>\n",
       "</table>\n",
       "</div>"
      ],
      "text/plain": [
       "                          Titulo                            Genero   Any\n",
       "id                                                                      \n",
       "1                     Toy Story    [Animation, Children's, Comedy]  1995\n",
       "2                       Jumanji   [Adventure, Children's, Fantasy]  1995\n",
       "3              Grumpier Old Men                  [Comedy, Romance]  1995\n",
       "4             Waiting to Exhale                    [Comedy, Drama]  1995\n",
       "5   Father of the Bride Part II                           [Comedy]  1995\n",
       "6                          Heat          [Action, Crime, Thriller]  1995\n",
       "7                       Sabrina                  [Comedy, Romance]  1995\n",
       "8                  Tom and Huck            [Adventure, Children's]  1995\n",
       "9                  Sudden Death                           [Action]  1995\n",
       "10                    GoldenEye      [Action, Adventure, Thriller]  1995"
      ]
     },
     "execution_count": 34,
     "metadata": {},
     "output_type": "execute_result"
    }
   ],
   "source": [
    "df_movies['Genero'] = df_movies.Genero.str.split('|')\n",
    "\n",
    "df_movies.head(10)"
   ]
  },
  {
   "cell_type": "markdown",
   "id": "51e18f23",
   "metadata": {},
   "source": [
    "- Cambio el orden de las columnas"
   ]
  },
  {
   "cell_type": "code",
   "execution_count": 35,
   "id": "97193e95",
   "metadata": {},
   "outputs": [
    {
     "data": {
      "text/html": [
       "<div>\n",
       "<style scoped>\n",
       "    .dataframe tbody tr th:only-of-type {\n",
       "        vertical-align: middle;\n",
       "    }\n",
       "\n",
       "    .dataframe tbody tr th {\n",
       "        vertical-align: top;\n",
       "    }\n",
       "\n",
       "    .dataframe thead th {\n",
       "        text-align: right;\n",
       "    }\n",
       "</style>\n",
       "<table border=\"1\" class=\"dataframe\">\n",
       "  <thead>\n",
       "    <tr style=\"text-align: right;\">\n",
       "      <th></th>\n",
       "      <th>Titulo</th>\n",
       "      <th>Any</th>\n",
       "      <th>Genero</th>\n",
       "    </tr>\n",
       "    <tr>\n",
       "      <th>id</th>\n",
       "      <th></th>\n",
       "      <th></th>\n",
       "      <th></th>\n",
       "    </tr>\n",
       "  </thead>\n",
       "  <tbody>\n",
       "    <tr>\n",
       "      <th>1</th>\n",
       "      <td>Toy Story</td>\n",
       "      <td>1995</td>\n",
       "      <td>[Animation, Children's, Comedy]</td>\n",
       "    </tr>\n",
       "    <tr>\n",
       "      <th>2</th>\n",
       "      <td>Jumanji</td>\n",
       "      <td>1995</td>\n",
       "      <td>[Adventure, Children's, Fantasy]</td>\n",
       "    </tr>\n",
       "    <tr>\n",
       "      <th>3</th>\n",
       "      <td>Grumpier Old Men</td>\n",
       "      <td>1995</td>\n",
       "      <td>[Comedy, Romance]</td>\n",
       "    </tr>\n",
       "    <tr>\n",
       "      <th>4</th>\n",
       "      <td>Waiting to Exhale</td>\n",
       "      <td>1995</td>\n",
       "      <td>[Comedy, Drama]</td>\n",
       "    </tr>\n",
       "    <tr>\n",
       "      <th>5</th>\n",
       "      <td>Father of the Bride Part II</td>\n",
       "      <td>1995</td>\n",
       "      <td>[Comedy]</td>\n",
       "    </tr>\n",
       "    <tr>\n",
       "      <th>...</th>\n",
       "      <td>...</td>\n",
       "      <td>...</td>\n",
       "      <td>...</td>\n",
       "    </tr>\n",
       "    <tr>\n",
       "      <th>3948</th>\n",
       "      <td>Meet the Parents</td>\n",
       "      <td>2000</td>\n",
       "      <td>[Comedy]</td>\n",
       "    </tr>\n",
       "    <tr>\n",
       "      <th>3949</th>\n",
       "      <td>Requiem for a Dream</td>\n",
       "      <td>2000</td>\n",
       "      <td>[Drama]</td>\n",
       "    </tr>\n",
       "    <tr>\n",
       "      <th>3950</th>\n",
       "      <td>Tigerland</td>\n",
       "      <td>2000</td>\n",
       "      <td>[Drama]</td>\n",
       "    </tr>\n",
       "    <tr>\n",
       "      <th>3951</th>\n",
       "      <td>Two Family House</td>\n",
       "      <td>2000</td>\n",
       "      <td>[Drama]</td>\n",
       "    </tr>\n",
       "    <tr>\n",
       "      <th>3952</th>\n",
       "      <td>Contender, The</td>\n",
       "      <td>2000</td>\n",
       "      <td>[Drama, Thriller]</td>\n",
       "    </tr>\n",
       "  </tbody>\n",
       "</table>\n",
       "<p>3883 rows × 3 columns</p>\n",
       "</div>"
      ],
      "text/plain": [
       "                            Titulo   Any                            Genero\n",
       "id                                                                        \n",
       "1                       Toy Story   1995   [Animation, Children's, Comedy]\n",
       "2                         Jumanji   1995  [Adventure, Children's, Fantasy]\n",
       "3                Grumpier Old Men   1995                 [Comedy, Romance]\n",
       "4               Waiting to Exhale   1995                   [Comedy, Drama]\n",
       "5     Father of the Bride Part II   1995                          [Comedy]\n",
       "...                            ...   ...                               ...\n",
       "3948             Meet the Parents   2000                          [Comedy]\n",
       "3949          Requiem for a Dream   2000                           [Drama]\n",
       "3950                    Tigerland   2000                           [Drama]\n",
       "3951             Two Family House   2000                           [Drama]\n",
       "3952               Contender, The   2000                 [Drama, Thriller]\n",
       "\n",
       "[3883 rows x 3 columns]"
      ]
     },
     "execution_count": 35,
     "metadata": {},
     "output_type": "execute_result"
    }
   ],
   "source": [
    "col = df_movies.pop('Any')\n",
    "df_movies.insert(loc= 1 , column= 'Any', value= col)\n",
    "df_movies"
   ]
  },
  {
   "cell_type": "markdown",
   "id": "2ec06cb3",
   "metadata": {},
   "source": [
    "- Se corta los géneros para que quede solo uno. "
   ]
  },
  {
   "cell_type": "code",
   "execution_count": 37,
   "id": "1f77f720",
   "metadata": {
    "scrolled": true
   },
   "outputs": [
    {
     "data": {
      "text/html": [
       "<div>\n",
       "<style scoped>\n",
       "    .dataframe tbody tr th:only-of-type {\n",
       "        vertical-align: middle;\n",
       "    }\n",
       "\n",
       "    .dataframe tbody tr th {\n",
       "        vertical-align: top;\n",
       "    }\n",
       "\n",
       "    .dataframe thead th {\n",
       "        text-align: right;\n",
       "    }\n",
       "</style>\n",
       "<table border=\"1\" class=\"dataframe\">\n",
       "  <thead>\n",
       "    <tr style=\"text-align: right;\">\n",
       "      <th></th>\n",
       "      <th>Titulo</th>\n",
       "      <th>Any</th>\n",
       "      <th>Genero</th>\n",
       "    </tr>\n",
       "    <tr>\n",
       "      <th>id</th>\n",
       "      <th></th>\n",
       "      <th></th>\n",
       "      <th></th>\n",
       "    </tr>\n",
       "  </thead>\n",
       "  <tbody>\n",
       "    <tr>\n",
       "      <th>1</th>\n",
       "      <td>Toy Story</td>\n",
       "      <td>1995</td>\n",
       "      <td>Animation</td>\n",
       "    </tr>\n",
       "    <tr>\n",
       "      <th>2</th>\n",
       "      <td>Jumanji</td>\n",
       "      <td>1995</td>\n",
       "      <td>Adventure</td>\n",
       "    </tr>\n",
       "    <tr>\n",
       "      <th>3</th>\n",
       "      <td>Grumpier Old Men</td>\n",
       "      <td>1995</td>\n",
       "      <td>Comedy</td>\n",
       "    </tr>\n",
       "    <tr>\n",
       "      <th>4</th>\n",
       "      <td>Waiting to Exhale</td>\n",
       "      <td>1995</td>\n",
       "      <td>Comedy</td>\n",
       "    </tr>\n",
       "    <tr>\n",
       "      <th>5</th>\n",
       "      <td>Father of the Bride Part II</td>\n",
       "      <td>1995</td>\n",
       "      <td>Comedy</td>\n",
       "    </tr>\n",
       "    <tr>\n",
       "      <th>6</th>\n",
       "      <td>Heat</td>\n",
       "      <td>1995</td>\n",
       "      <td>Action</td>\n",
       "    </tr>\n",
       "    <tr>\n",
       "      <th>7</th>\n",
       "      <td>Sabrina</td>\n",
       "      <td>1995</td>\n",
       "      <td>Comedy</td>\n",
       "    </tr>\n",
       "    <tr>\n",
       "      <th>8</th>\n",
       "      <td>Tom and Huck</td>\n",
       "      <td>1995</td>\n",
       "      <td>Adventure</td>\n",
       "    </tr>\n",
       "    <tr>\n",
       "      <th>9</th>\n",
       "      <td>Sudden Death</td>\n",
       "      <td>1995</td>\n",
       "      <td>Action</td>\n",
       "    </tr>\n",
       "    <tr>\n",
       "      <th>10</th>\n",
       "      <td>GoldenEye</td>\n",
       "      <td>1995</td>\n",
       "      <td>Action</td>\n",
       "    </tr>\n",
       "  </tbody>\n",
       "</table>\n",
       "</div>"
      ],
      "text/plain": [
       "                          Titulo   Any     Genero\n",
       "id                                               \n",
       "1                     Toy Story   1995  Animation\n",
       "2                       Jumanji   1995  Adventure\n",
       "3              Grumpier Old Men   1995     Comedy\n",
       "4             Waiting to Exhale   1995     Comedy\n",
       "5   Father of the Bride Part II   1995     Comedy\n",
       "6                          Heat   1995     Action\n",
       "7                       Sabrina   1995     Comedy\n",
       "8                  Tom and Huck   1995  Adventure\n",
       "9                  Sudden Death   1995     Action\n",
       "10                    GoldenEye   1995     Action"
      ]
     },
     "execution_count": 37,
     "metadata": {},
     "output_type": "execute_result"
    }
   ],
   "source": [
    "df_movies['Genero'] = df_movies.Genero.str[0].str.strip() #str[posisición que queremos conservar].str.strip() corto y me quedo con lo que me interesa\n",
    "df_movies.head(10)"
   ]
  },
  {
   "cell_type": "markdown",
   "id": "be5d06e9",
   "metadata": {},
   "source": [
    "## Exercici 3\n",
    "\n",
    "Mostra la teva creativitat. Què creus rellevant mostrar del Dataset \"movies.dat\" de l'exercici anterior?\n",
    "\n",
    "Fes una o dues representacions gràfiques i justifica la teva elecció.\n",
    "\n"
   ]
  },
  {
   "cell_type": "code",
   "execution_count": 38,
   "id": "b6a3d7be",
   "metadata": {},
   "outputs": [
    {
     "data": {
      "text/plain": [
       "Drama          1176\n",
       "Comedy         1024\n",
       "Action          503\n",
       "Horror          262\n",
       "Adventure       155\n",
       "Crime           131\n",
       "Documentary     123\n",
       "Thriller        101\n",
       "Animation        90\n",
       "Children's       89\n",
       "Romance          50\n",
       "Sci-Fi           46\n",
       "Mystery          36\n",
       "Western          33\n",
       "Film-Noir        25\n",
       "Musical          25\n",
       "War              12\n",
       "Fantasy           2\n",
       "Name: Genero, dtype: int64"
      ]
     },
     "execution_count": 38,
     "metadata": {},
     "output_type": "execute_result"
    }
   ],
   "source": [
    "df_movies_gen = df_movies.Genero.value_counts()\n",
    "df_movies_gen"
   ]
  },
  {
   "cell_type": "code",
   "execution_count": 39,
   "id": "9277b108",
   "metadata": {},
   "outputs": [
    {
     "data": {
      "text/plain": [
       "Text(0, 0.5, 'Número de Películas')"
      ]
     },
     "execution_count": 39,
     "metadata": {},
     "output_type": "execute_result"
    },
    {
     "data": {
      "image/png": "[encoded data removed]",
      "text/plain": [
       "<Figure size 432x288 with 1 Axes>"
      ]
     },
     "metadata": {
      "needs_background": "light"
     },
     "output_type": "display_data"
    }
   ],
   "source": [
    "df_movies_gen.plot.bar()\n",
    "plt.title('Número de Películas por Género')\n",
    "plt.xlabel('Género')\n",
    "plt.ylabel('Número de Películas')"
   ]
  },
  {
   "cell_type": "markdown",
   "id": "d6636361",
   "metadata": {},
   "source": [
    "- En este gráfico podemos observar la cantidad de películas por género, siendo 'Drama' el género con mayor número de películas."
   ]
  },
  {
   "cell_type": "code",
   "execution_count": 15,
   "id": "3c8f1185",
   "metadata": {},
   "outputs": [
    {
     "data": {
      "text/plain": [
       "1996    345\n",
       "1995    342\n",
       "1998    337\n",
       "1997    315\n",
       "1999    283\n",
       "       ... \n",
       "1923      3\n",
       "1919      3\n",
       "1922      2\n",
       "1920      2\n",
       "1921      1\n",
       "Name: Any, Length: 81, dtype: int64"
      ]
     },
     "execution_count": 15,
     "metadata": {},
     "output_type": "execute_result"
    }
   ],
   "source": [
    "df_movies_any = df_movies.Any.value_counts()\n",
    "df_movies_any"
   ]
  },
  {
   "cell_type": "code",
   "execution_count": 16,
   "id": "ccd9763f",
   "metadata": {},
   "outputs": [
    {
     "data": {
      "text/plain": [
       "1921      1\n",
       "1920      2\n",
       "1922      2\n",
       "1919      3\n",
       "1923      3\n",
       "       ... \n",
       "1999    283\n",
       "1997    315\n",
       "1998    337\n",
       "1995    342\n",
       "1996    345\n",
       "Name: Any, Length: 81, dtype: int64"
      ]
     },
     "execution_count": 16,
     "metadata": {},
     "output_type": "execute_result"
    }
   ],
   "source": [
    "df_movies_any.sort_values(ascending=True)"
   ]
  },
  {
   "cell_type": "code",
   "execution_count": 17,
   "id": "8b69a1cf",
   "metadata": {
    "scrolled": true
   },
   "outputs": [
    {
     "data": {
      "image/png": "[encoded data removed]",
      "text/plain": [
       "<Figure size 600x400 with 1 Axes>"
      ]
     },
     "metadata": {
      "needs_background": "light"
     },
     "output_type": "display_data"
    }
   ],
   "source": [
    "plt.figure(dpi=100)\n",
    "a= sns.histplot(x='Any', data= df_movies)\n",
    "a.set_title('Distribución de películas en función de los años', fontsize=10)\n",
    "a.set_xlabel('Años',fontsize=7)\n",
    "a.set_ylabel('Cantidad de Películas', fontsize=7)\n",
    "a.tick_params(labelsize=7)\n",
    "plt.show()"
   ]
  },
  {
   "cell_type": "markdown",
   "id": "05a9ffa8",
   "metadata": {},
   "source": [
    "- Este gráfico muestra la distribución del número de películas en función de los años. Tiene una forma forma está sesgada a la derecha o también se dice sesgada hacia el extremo positivo. También se observa que tiene un pico (valor que corresponde a la moda) ubicado en la década de los 90', por lo tanto se denomina unimodal. Se puede concluir que hay un aumento significativo, en esa década, en el número de películas. \n",
    "- info útil : http://localhost:8889/notebooks/Programaci%C3%B3n%20IT/Data%20Science/Especializaci%C3%B3n%20Ciencia%20de%20datos/Sprint%204/Examining-Data-main/Examining-Data-main/Visualitzaci%C3%B3%20gr%C3%A0fica%20de%20m%C3%BAltiples%20variables.%20Exc%201.ipynb"
   ]
  }
 ],
 "metadata": {
  "hide_input": false,
  "kernelspec": {
   "display_name": "Python 3 (ipykernel)",
   "language": "python",
   "name": "python3"
  },
  "language_info": {
   "codemirror_mode": {
    "name": "ipython",
    "version": 3
   },
   "file_extension": ".py",
   "mimetype": "text/x-python",
   "name": "python",
   "nbconvert_exporter": "python",
   "pygments_lexer": "ipython3",
   "version": "3.9.12"
  },
  "nbTranslate": {
   "displayLangs": [
    "*"
   ],
   "hotkey": "alt-t",
   "langInMainMenu": true,
   "sourceLang": "en",
   "targetLang": "fr",
   "useGoogleTranslate": true
  },
  "toc": {
   "base_numbering": 1,
   "nav_menu": {},
   "number_sections": true,
   "sideBar": true,
   "skip_h1_title": false,
   "title_cell": "Table of Contents",
   "title_sidebar": "Contents",
   "toc_cell": false,
   "toc_position": {},
   "toc_section_display": true,
   "toc_window_display": false
  },
  "varInspector": {
   "cols": {
    "lenName": 16,
    "lenType": 16,
    "lenVar": 40
   },
   "kernels_config": {
    "python": {
     "delete_cmd_postfix": "",
     "delete_cmd_prefix": "del ",
     "library": "var_list.py",
     "varRefreshCmd": "print(var_dic_list())"
    },
    "r": {
     "delete_cmd_postfix": ") ",
     "delete_cmd_prefix": "rm(",
     "library": "var_list.r",
     "varRefreshCmd": "cat(var_dic_list()) "
    }
   },
   "types_to_exclude": [
    "module",
    "function",
    "builtin_function_or_method",
    "instance",
    "_Feature"
   ],
   "window_display": false
  }
 },
 "nbformat": 4,
 "nbformat_minor": 5
}
